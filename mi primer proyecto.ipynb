{
 "cells": [
  {
   "cell_type": "code",
   "execution_count": null,
   "metadata": {},
   "outputs": [],
   "source": [
    "import pandas as pd\n",
    "\n",
    "# Creamos una lista con los valores de la columna A\n",
    "colA = [1, 2, 3]\n",
    "\n",
    "# Creamos una lista con los valores de la columna B\n",
    "colB = ['a', 'b', 'c']\n",
    "\n",
    "# Creamos el data frame utilizando la función pd.DataFrame()\n",
    "df = pd.DataFrame({'A': colA, 'B': colB})\n",
    "\n",
    "# añadir columnas y casos\n",
    "df['Columna tercera'] = [4, 5, 6]\n",
    "colA_extra = [4, 5, 6, 7, 8, 9, 10, 11, 12, 13]\n",
    "colB_extra = ['d', 'e', 'f', 'g', 'h', 'i', 'j', 'k', 'l', 'm']\n",
    "colC_extra = [7, 8, 9, 10, 11, 12, 13, 14, 15, 16]\n",
    "\n",
    "df['A'] = df['A'].append(colA_extra)\n",
    "df['B'] = df['B'].append(colB_extra)\n",
    "df['Columna tercera'] = df['Columna tercera'].append(colC_extra)"
   ]
  }
 ],
 "metadata": {
  "kernelspec": {
   "display_name": "base",
   "language": "python",
   "name": "python3"
  },
  "language_info": {
   "codemirror_mode": {
    "name": "ipython",
    "version": 3
   },
   "file_extension": ".py",
   "mimetype": "text/x-python",
   "name": "python",
   "nbconvert_exporter": "python",
   "pygments_lexer": "ipython3",
   "version": "3.9.13"
  },
  "orig_nbformat": 4,
  "vscode": {
   "interpreter": {
    "hash": "fafc17c292403ba5b69e6ded93a13b0db856f90800c6ea582070588e41442cfb"
   }
  }
 },
 "nbformat": 4,
 "nbformat_minor": 2
}
