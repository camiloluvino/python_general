{
 "cells": [
  {
   "cell_type": "code",
   "execution_count": null,
   "metadata": {},
   "outputs": [],
   "source": [
    "import ebooklib\n",
    "from ebooklib import epub\n",
    "\n",
    "# create an epub object from the file path\n",
    "book = epub.read_epub(r\"C:\\Users\\redk8\\Documents\\Proyectos en Python\\python_general\\fuentes de datos\\epubPdf_toMarkdownTxt\\Una invitacion a la sociologia - Loic Wacquant.epub\")\n",
    "\n",
    "# create a list to store the book's text\n",
    "text_list = []\n",
    "\n",
    "# loop through each item in the book and extract the text content\n",
    "for item in book.get_items():\n",
    "    # check if the item is a document type\n",
    "    if item.get_type() == ebooklib.ITEM_DOCUMENT:\n",
    "        # extract the text content from each HTML file in the document\n",
    "        for item2 in item.get_items():\n",
    "            # check if the item is an HTML file\n",
    "            if item2.get_type() == ebooklib.ITEM_DOCUMENT:\n",
    "                # extract the content and decode it using the appropriate encoding\n",
    "                content = item2.get_content()\n",
    "                encoding = item2.get_charset()\n",
    "                if encoding:\n",
    "                    text_list.append(content.decode(encoding))\n",
    "                else:\n",
    "                    text_list.append(content)\n",
    "\n",
    "\n",
    "\n",
    "# combine the text list into a single string\n",
    "text = \"\\n\".join(text_list)\n",
    "\n",
    "# save the text to a file\n",
    "with open(\"book_text.txt\", \"w\", encoding=\"utf-8\") as f:\n",
    "    f.write(text)\n"
   ]
  }
 ],
 "metadata": {
  "kernelspec": {
   "display_name": "base",
   "language": "python",
   "name": "python3"
  },
  "language_info": {
   "name": "python",
   "version": "3.9.13"
  },
  "orig_nbformat": 4,
  "vscode": {
   "interpreter": {
    "hash": "fafc17c292403ba5b69e6ded93a13b0db856f90800c6ea582070588e41442cfb"
   }
  }
 },
 "nbformat": 4,
 "nbformat_minor": 2
}
