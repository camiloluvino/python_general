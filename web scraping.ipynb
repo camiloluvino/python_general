{
 "cells": [
  {
   "attachments": {},
   "cell_type": "markdown",
   "metadata": {},
   "source": [
    "# mis primeros intentos fallidos"
   ]
  },
  {
   "cell_type": "code",
   "execution_count": 6,
   "metadata": {},
   "outputs": [],
   "source": [
    "import requests\n",
    "from bs4 import BeautifulSoup\n",
    "\n",
    "url = 'https://www.portalinmobiliario.com/arriendo/departamento/valparaiso'\n",
    "response = requests.get(url)\n",
    "soup = BeautifulSoup(response.text, 'html.parser')\n",
    "\n",
    "titles = soup.find_all('span', {'class': 'property-card-title'})\n",
    "for title in titles:\n",
    "    print(title.text)\n"
   ]
  },
  {
   "cell_type": "code",
   "execution_count": 7,
   "metadata": {},
   "outputs": [],
   "source": [
    "import requests\n",
    "from bs4 import BeautifulSoup\n",
    "\n",
    "url = 'https://www.portalinmobiliario.com/arriendo/departamento/valparaiso'\n",
    "response = requests.get(url)\n",
    "soup = BeautifulSoup(response.text, 'html.parser')\n",
    "\n",
    "titles = soup.find_all('span', {'class': 'property-card-title'})\n",
    "\n",
    "with open('titulos_arriendos.txt', 'w') as file:\n",
    "    for title in titles:\n",
    "        file.write(title.text + '\\n')"
   ]
  },
  {
   "cell_type": "code",
   "execution_count": 8,
   "metadata": {},
   "outputs": [],
   "source": [
    "import requests\n",
    "from bs4 import BeautifulSoup\n",
    "\n",
    "url = 'https://www.portalinmobiliario.com/MLC-1281625714-departamento-3-norte-id-43993-_JM#position=1&search_layout=stack&type=item&tracking_id=8bd5791e-f759-4f7f-b260-848deb520638'\n",
    "response = requests.get(url)\n",
    "soup = BeautifulSoup(response.text, 'html.parser')\n",
    "\n",
    "data = soup.find_all('div', {'class': 'property-data-box'})\n",
    "\n",
    "with open('informacion_departamento.txt', 'w') as file:\n",
    "    for i in data:\n",
    "        file.write(i.text + '\\n')\n"
   ]
  },
  {
   "cell_type": "code",
   "execution_count": 9,
   "metadata": {},
   "outputs": [],
   "source": [
    "# este caso sí resultó pero es con una página de prueba\n",
    "\n",
    "import requests\n",
    "from bs4 import BeautifulSoup\n",
    "\n",
    "url = 'https://books.toscrape.com/'\n",
    "response = requests.get(url)\n",
    "soup = BeautifulSoup(response.text, 'html.parser')\n",
    "\n",
    "titles = soup.find_all('h3')\n",
    "prices = soup.find_all('p', {'class': 'price_color'})\n",
    "\n",
    "with open('informacion_libros.txt', 'w') as file:\n",
    "    for i in range(len(titles)):\n",
    "        file.write(titles[i].text + ' - ' + prices[i].text + '\\n')\n",
    "\n",
    "\n",
    "        # si hago cambios aqui\n"
   ]
  },
  {
   "attachments": {},
   "cell_type": "markdown",
   "metadata": {},
   "source": [
    "# código Victor"
   ]
  },
  {
   "attachments": {},
   "cell_type": "markdown",
   "metadata": {},
   "source": [
    "## importar"
   ]
  },
  {
   "cell_type": "code",
   "execution_count": null,
   "metadata": {},
   "outputs": [],
   "source": [
    "#%%\n",
    "import selenium\n",
    "from selenium import webdriver\n",
    "from selenium.webdriver.common.keys import Keys\n",
    "import time\n",
    "import pandas as pd\n",
    "\n",
    "from selenium.webdriver.common.by import By\n",
    "from selenium.webdriver.support.ui import WebDriverWait\n",
    "from selenium.webdriver.support import expected_conditions as EC\n",
    "from selenium.webdriver.support.ui import Select\n",
    "from selenium.webdriver.common.action_chains import ActionChains\n",
    "\n",
    "# /robots.txt\n",
    "# Chrome drive \n",
    "# Selenium library\n",
    "\n"
   ]
  },
  {
   "attachments": {},
   "cell_type": "markdown",
   "metadata": {},
   "source": [
    "## proceso"
   ]
  },
  {
   "cell_type": "code",
   "execution_count": null,
   "metadata": {},
   "outputs": [],
   "source": [
    "#%%\n",
    "\n",
    "driver = webdriver.Chrome(executable_path= \"chromedriver_win32 (1)\\chromedriver.exe\")\n",
    "url = \"https://www.portalinmobiliario.com/arriendo/departamento/valparaiso\"\n",
    "\n",
    "driver.get(url)\n",
    "time.sleep(2)\n",
    "# xpath = \"/html/body/main/div/div[2]/section/div[5]/ul/li[3]\"\n",
    "clase_precio = \"price-tag-fraction\"\n",
    "clase_m2 = \"ui-search-card-attributes__attribute\"\n",
    "\n",
    "# clase_boton = \"andes-pagination__arrow-title\"\n",
    "\n",
    "lista = driver.find_elements(By.CLASS_NAME, clase_precio)\n",
    "precio = [element.text for element in lista]\n",
    "\n",
    "lista = driver.find_elements(By.CLASS_NAME, clase_m2)\n",
    "\n",
    "metros = [element.text for element in lista]\n",
    "\n",
    "\n",
    "\n",
    "# element = driver.find_element(By.LINK_TEXT, \"Siguiente\")\n",
    "\n",
    "# actions = ActionChains(driver)\n",
    "# actions.move_to_element(element).click().perform()\n",
    "# # element.click()\n",
    "\n",
    "# # time.sleep(2)\n",
    "# lista = driver.find_elements(By.CLASS_NAME, clase_precio)\n",
    "# precio1 = [element.text for element in lista]\n",
    "\n",
    "# lista = driver.find_elements(By.CLASS_NAME, clase_m2)\n",
    "# m21 = [element.text for element in lista]\n",
    "\n",
    "\n",
    "# precio = precio + precio1\n",
    "# m2 = m2+m21\n",
    "\n",
    "\n",
    "driver.close()    "
   ]
  },
  {
   "attachments": {},
   "cell_type": "markdown",
   "metadata": {},
   "source": [
    "## aplicar a varios"
   ]
  },
  {
   "cell_type": "code",
   "execution_count": null,
   "metadata": {},
   "outputs": [],
   "source": [
    "#%%\n",
    "i=0\n",
    "metros_datos = []\n",
    "\n",
    "while i<len(metros):\n",
    "    aux = metros[i]\n",
    "    metros_datos.append(aux)\n",
    "    i+=2\n",
    "    \n",
    "i=1\n",
    "dorm_datos = []\n",
    "while i<len(metros):\n",
    "    aux = metros[i]\n",
    "    dorm_datos.append(aux)\n",
    "    i+=2\n",
    "    \n",
    "datos = {\"precio\": precio,\n",
    "         \"metros\": metros_datos,\n",
    "         \"dormitorio\": dorm_datos}    \n",
    "df = pd.DataFrame(datos)"
   ]
  }
 ],
 "metadata": {
  "kernelspec": {
   "display_name": "base",
   "language": "python",
   "name": "python3"
  },
  "language_info": {
   "codemirror_mode": {
    "name": "ipython",
    "version": 3
   },
   "file_extension": ".py",
   "mimetype": "text/x-python",
   "name": "python",
   "nbconvert_exporter": "python",
   "pygments_lexer": "ipython3",
   "version": "3.9.13 (main, Aug 25 2022, 23:51:50) [MSC v.1916 64 bit (AMD64)]"
  },
  "orig_nbformat": 4,
  "vscode": {
   "interpreter": {
    "hash": "fafc17c292403ba5b69e6ded93a13b0db856f90800c6ea582070588e41442cfb"
   }
  }
 },
 "nbformat": 4,
 "nbformat_minor": 2
}
