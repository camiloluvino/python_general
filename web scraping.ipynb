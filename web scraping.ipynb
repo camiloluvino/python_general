{
 "cells": [
  {
   "cell_type": "code",
   "execution_count": 6,
   "metadata": {},
   "outputs": [],
   "source": [
    "import requests\n",
    "from bs4 import BeautifulSoup\n",
    "\n",
    "url = 'https://www.portalinmobiliario.com/arriendo/departamento/valparaiso'\n",
    "response = requests.get(url)\n",
    "soup = BeautifulSoup(response.text, 'html.parser')\n",
    "\n",
    "titles = soup.find_all('span', {'class': 'property-card-title'})\n",
    "for title in titles:\n",
    "    print(title.text)\n"
   ]
  },
  {
   "cell_type": "code",
   "execution_count": 7,
   "metadata": {},
   "outputs": [],
   "source": [
    "import requests\n",
    "from bs4 import BeautifulSoup\n",
    "\n",
    "url = 'https://www.portalinmobiliario.com/arriendo/departamento/valparaiso'\n",
    "response = requests.get(url)\n",
    "soup = BeautifulSoup(response.text, 'html.parser')\n",
    "\n",
    "titles = soup.find_all('span', {'class': 'property-card-title'})\n",
    "\n",
    "with open('titulos_arriendos.txt', 'w') as file:\n",
    "    for title in titles:\n",
    "        file.write(title.text + '\\n')"
   ]
  },
  {
   "cell_type": "code",
   "execution_count": 8,
   "metadata": {},
   "outputs": [],
   "source": [
    "import requests\n",
    "from bs4 import BeautifulSoup\n",
    "\n",
    "url = 'https://www.portalinmobiliario.com/MLC-1281625714-departamento-3-norte-id-43993-_JM#position=1&search_layout=stack&type=item&tracking_id=8bd5791e-f759-4f7f-b260-848deb520638'\n",
    "response = requests.get(url)\n",
    "soup = BeautifulSoup(response.text, 'html.parser')\n",
    "\n",
    "data = soup.find_all('div', {'class': 'property-data-box'})\n",
    "\n",
    "with open('informacion_departamento.txt', 'w') as file:\n",
    "    for i in data:\n",
    "        file.write(i.text + '\\n')\n"
   ]
  },
  {
   "cell_type": "code",
   "execution_count": 9,
   "metadata": {},
   "outputs": [],
   "source": [
    "# este caso sí resultó pero es con una página de prueba\n",
    "\n",
    "import requests\n",
    "from bs4 import BeautifulSoup\n",
    "\n",
    "url = 'https://books.toscrape.com/'\n",
    "response = requests.get(url)\n",
    "soup = BeautifulSoup(response.text, 'html.parser')\n",
    "\n",
    "titles = soup.find_all('h3')\n",
    "prices = soup.find_all('p', {'class': 'price_color'})\n",
    "\n",
    "with open('informacion_libros.txt', 'w') as file:\n",
    "    for i in range(len(titles)):\n",
    "        file.write(titles[i].text + ' - ' + prices[i].text + '\\n')\n",
    "\n",
    "\n",
    "        # si hago cambios aqui\n"
   ]
  }
 ],
 "metadata": {
  "kernelspec": {
   "display_name": "base",
   "language": "python",
   "name": "python3"
  },
  "language_info": {
   "codemirror_mode": {
    "name": "ipython",
    "version": 3
   },
   "file_extension": ".py",
   "mimetype": "text/x-python",
   "name": "python",
   "nbconvert_exporter": "python",
   "pygments_lexer": "ipython3",
   "version": "3.9.13 (main, Aug 25 2022, 23:51:50) [MSC v.1916 64 bit (AMD64)]"
  },
  "orig_nbformat": 4,
  "vscode": {
   "interpreter": {
    "hash": "fafc17c292403ba5b69e6ded93a13b0db856f90800c6ea582070588e41442cfb"
   }
  }
 },
 "nbformat": 4,
 "nbformat_minor": 2
}
