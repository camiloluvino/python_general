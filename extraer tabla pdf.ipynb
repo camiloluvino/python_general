{
 "cells": [
  {
   "cell_type": "code",
   "execution_count": 4,
   "metadata": {},
   "outputs": [
    {
     "name": "stdout",
     "output_type": "stream",
     "text": [
      "Requirement already satisfied: pypdf2 in c:\\users\\redk8\\anaconda3\\lib\\site-packages (3.0.1)\n",
      "Requirement already satisfied: typing_extensions>=3.10.0.0 in c:\\users\\redk8\\anaconda3\\lib\\site-packages (from pypdf2) (4.3.0)\n",
      "Note: you may need to restart the kernel to use updated packages.\n"
     ]
    }
   ],
   "source": [
    "pip install -U pypdf2"
   ]
  },
  {
   "cell_type": "code",
   "execution_count": 14,
   "metadata": {},
   "outputs": [
    {
     "ename": "ModuleNotFoundError",
     "evalue": "No module named 'pypdf2'",
     "output_type": "error",
     "traceback": [
      "\u001b[1;31m---------------------------------------------------------------------------\u001b[0m",
      "\u001b[1;31mModuleNotFoundError\u001b[0m                       Traceback (most recent call last)",
      "\u001b[1;32m~\\AppData\\Local\\Temp\\ipykernel_4652\\1366267606.py\u001b[0m in \u001b[0;36m<module>\u001b[1;34m\u001b[0m\n\u001b[1;32m----> 1\u001b[1;33m \u001b[1;32mimport\u001b[0m \u001b[0mpypdf2\u001b[0m\u001b[1;33m\u001b[0m\u001b[1;33m\u001b[0m\u001b[0m\n\u001b[0m\u001b[0;32m      2\u001b[0m \u001b[1;33m\u001b[0m\u001b[0m\n\u001b[0;32m      3\u001b[0m \u001b[1;31m# Abre el archivo PDF en modo lectura\u001b[0m\u001b[1;33m\u001b[0m\u001b[1;33m\u001b[0m\u001b[0m\n\u001b[0;32m      4\u001b[0m \u001b[1;32mwith\u001b[0m \u001b[0mopen\u001b[0m\u001b[1;33m(\u001b[0m\u001b[1;34mr\"C:\\Users\\redk8\\Dropbox\\Graph_cosascotidianas\\fondos mutuos inversiones deposito a plazo itau finanzas\\FMCA_17412886-3_202207_U_.pdf\"\u001b[0m\u001b[1;33m,\u001b[0m \u001b[1;34m\"rb\"\u001b[0m\u001b[1;33m)\u001b[0m \u001b[1;32mas\u001b[0m \u001b[0mfile\u001b[0m\u001b[1;33m:\u001b[0m\u001b[1;33m\u001b[0m\u001b[1;33m\u001b[0m\u001b[0m\n\u001b[0;32m      5\u001b[0m     \u001b[1;31m# Crea un objeto PDFReader para leer el contenido del archivo\u001b[0m\u001b[1;33m\u001b[0m\u001b[1;33m\u001b[0m\u001b[0m\n",
      "\u001b[1;31mModuleNotFoundError\u001b[0m: No module named 'pypdf2'"
     ]
    }
   ],
   "source": [
    "import pypdf2\n",
    "\n",
    "# Abre el archivo PDF en modo lectura\n",
    "with open(r\"C:\\Users\\redk8\\Dropbox\\Graph_cosascotidianas\\fondos mutuos inversiones deposito a plazo itau finanzas\\FMCA_17412886-3_202207_U_.pdf\", \"rb\") as file:\n",
    "    # Crea un objeto PDFReader para leer el contenido del archivo\n",
    "    reader = pypdf2.PdfFileReader(file)\n",
    "\n",
    "    # Recorre todas las páginas del archivo\n",
    "    for page in range(reader.getNumPages()):\n",
    "        # Extrae el texto de la página actual\n",
    "        text = reader.getPage(page).extractText()\n",
    "\n",
    "        # Aquí puedes hacer algo con el texto, como escribirlo en un archivo Excel\n",
    "        # utilizando la biblioteca openpyxl\n",
    "        ...\n"
   ]
  },
  {
   "cell_type": "code",
   "execution_count": null,
   "metadata": {},
   "outputs": [],
   "source": []
  }
 ],
 "metadata": {
  "kernelspec": {
   "display_name": "base",
   "language": "python",
   "name": "python3"
  },
  "language_info": {
   "codemirror_mode": {
    "name": "ipython",
    "version": 3
   },
   "file_extension": ".py",
   "mimetype": "text/x-python",
   "name": "python",
   "nbconvert_exporter": "python",
   "pygments_lexer": "ipython3",
   "version": "3.9.13 (main, Aug 25 2022, 23:51:50) [MSC v.1916 64 bit (AMD64)]"
  },
  "orig_nbformat": 4,
  "vscode": {
   "interpreter": {
    "hash": "fafc17c292403ba5b69e6ded93a13b0db856f90800c6ea582070588e41442cfb"
   }
  }
 },
 "nbformat": 4,
 "nbformat_minor": 2
}
